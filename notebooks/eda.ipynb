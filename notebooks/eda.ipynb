{
 "cells": [
  {
   "cell_type": "code",
   "execution_count": 1,
   "metadata": {},
   "outputs": [],
   "source": [
    "import pandas as pd\n",
    "from transformers import pipeline, set_seed\n",
    "from sentence_transformers import SentenceTransformer\n",
    "import requests\n",
    "from bs4 import BeautifulSoup"
   ]
  },
  {
   "cell_type": "code",
   "execution_count": 2,
   "metadata": {},
   "outputs": [],
   "source": [
    "picture_info = pd.read_csv('../data/best_picture_2000.csv')"
   ]
  },
  {
   "cell_type": "code",
   "execution_count": 3,
   "metadata": {},
   "outputs": [],
   "source": [
    "def get_text(link):\n",
    "    response = requests.get(link)\n",
    "    soup = BeautifulSoup(response.text)\n",
    "    # Find all paragraphs within the main content area\n",
    "    paragraphs = soup.find(id='mw-content-text').find_all('p')\n",
    "    # Extract plain text from paragraphs using get_text() method\n",
    "    text = '\\n'.join([p.get_text() for p in paragraphs])\n",
    "    return text\n",
    "    "
   ]
  },
  {
   "cell_type": "code",
   "execution_count": 4,
   "metadata": {},
   "outputs": [],
   "source": [
    "picture_info['body_text'] = picture_info['link'].apply(get_text)"
   ]
  },
  {
   "cell_type": "code",
   "execution_count": 5,
   "metadata": {},
   "outputs": [
    {
     "data": {
      "text/html": [
       "<div>\n",
       "<style scoped>\n",
       "    .dataframe tbody tr th:only-of-type {\n",
       "        vertical-align: middle;\n",
       "    }\n",
       "\n",
       "    .dataframe tbody tr th {\n",
       "        vertical-align: top;\n",
       "    }\n",
       "\n",
       "    .dataframe thead th {\n",
       "        text-align: right;\n",
       "    }\n",
       "</style>\n",
       "<table border=\"1\" class=\"dataframe\">\n",
       "  <thead>\n",
       "    <tr style=\"text-align: right;\">\n",
       "      <th></th>\n",
       "      <th>title</th>\n",
       "      <th>link</th>\n",
       "      <th>year</th>\n",
       "      <th>body_text</th>\n",
       "    </tr>\n",
       "  </thead>\n",
       "  <tbody>\n",
       "    <tr>\n",
       "      <th>0</th>\n",
       "      <td>Gladiator</td>\n",
       "      <td>https://en.wikipedia.org/wiki/Gladiator_(2000_...</td>\n",
       "      <td>2000</td>\n",
       "      <td>\\n\\nGladiator is a 2000 historical epic film d...</td>\n",
       "    </tr>\n",
       "    <tr>\n",
       "      <th>1</th>\n",
       "      <td>A Beautiful Mind</td>\n",
       "      <td>https://en.wikipedia.org/wiki/A_Beautiful_Mind...</td>\n",
       "      <td>2001</td>\n",
       "      <td>\\n\\nA Beautiful Mind is a 2001 American biogra...</td>\n",
       "    </tr>\n",
       "    <tr>\n",
       "      <th>2</th>\n",
       "      <td>Chicago</td>\n",
       "      <td>https://en.wikipedia.org/wiki/Chicago_(2002_film)</td>\n",
       "      <td>2002</td>\n",
       "      <td>\\n\\nChicago is a 2002 American musical black c...</td>\n",
       "    </tr>\n",
       "    <tr>\n",
       "      <th>3</th>\n",
       "      <td>The Lord of the Rings: The Return of the King</td>\n",
       "      <td>https://en.wikipedia.org/wiki/The_Lord_of_the_...</td>\n",
       "      <td>2003</td>\n",
       "      <td>\\n\\nThe Lord of the Rings: The Return of the K...</td>\n",
       "    </tr>\n",
       "    <tr>\n",
       "      <th>4</th>\n",
       "      <td>Million Dollar Baby</td>\n",
       "      <td>https://en.wikipedia.org/wiki/Million_Dollar_Baby</td>\n",
       "      <td>2004</td>\n",
       "      <td>\\n\\nMillion Dollar Baby is a 2004 American spo...</td>\n",
       "    </tr>\n",
       "  </tbody>\n",
       "</table>\n",
       "</div>"
      ],
      "text/plain": [
       "                                           title  \\\n",
       "0                                      Gladiator   \n",
       "1                               A Beautiful Mind   \n",
       "2                                        Chicago   \n",
       "3  The Lord of the Rings: The Return of the King   \n",
       "4                            Million Dollar Baby   \n",
       "\n",
       "                                                link  year  \\\n",
       "0  https://en.wikipedia.org/wiki/Gladiator_(2000_...  2000   \n",
       "1  https://en.wikipedia.org/wiki/A_Beautiful_Mind...  2001   \n",
       "2  https://en.wikipedia.org/wiki/Chicago_(2002_film)  2002   \n",
       "3  https://en.wikipedia.org/wiki/The_Lord_of_the_...  2003   \n",
       "4  https://en.wikipedia.org/wiki/Million_Dollar_Baby  2004   \n",
       "\n",
       "                                           body_text  \n",
       "0  \\n\\nGladiator is a 2000 historical epic film d...  \n",
       "1  \\n\\nA Beautiful Mind is a 2001 American biogra...  \n",
       "2  \\n\\nChicago is a 2002 American musical black c...  \n",
       "3  \\n\\nThe Lord of the Rings: The Return of the K...  \n",
       "4  \\n\\nMillion Dollar Baby is a 2004 American spo...  "
      ]
     },
     "execution_count": 5,
     "metadata": {},
     "output_type": "execute_result"
    }
   ],
   "source": [
    "picture_info.head()"
   ]
  },
  {
   "cell_type": "code",
   "execution_count": null,
   "metadata": {},
   "outputs": [],
   "source": []
  },
  {
   "cell_type": "code",
   "execution_count": null,
   "metadata": {},
   "outputs": [],
   "source": []
  }
 ],
 "metadata": {
  "kernelspec": {
   "display_name": "base",
   "language": "python",
   "name": "python3"
  },
  "language_info": {
   "codemirror_mode": {
    "name": "ipython",
    "version": 3
   },
   "file_extension": ".py",
   "mimetype": "text/x-python",
   "name": "python",
   "nbconvert_exporter": "python",
   "pygments_lexer": "ipython3",
   "version": "3.11.4"
  }
 },
 "nbformat": 4,
 "nbformat_minor": 2
}
